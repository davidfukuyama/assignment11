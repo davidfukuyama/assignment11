{
 "cells": [
  {
   "cell_type": "markdown",
   "metadata": {},
   "source": [
    "# Assignment 11\n",
    "\n",
    "In [Assignment 10](https://github.com/PGE383-HPC-Spring2018/assignment10) we used Numba to speed up the implementation of a two dimensional finite difference solution to the Laplace equation.  In this assignment we will use [CFFI](cffi.readthedocs.io) to perform a similar task.  I have already implemented a CFFI \"ABI\" solution in the file [laplace.py](laplace.py).  To test this implementation, you must first compile the shared library by executing the following line at the Terminal command prompt:\n",
    "\n",
    "```bash\n",
    "gcc -fPIC iterate.c -shared -o iterate_abi.so;\n",
    "```"
   ]
  },
  {
   "cell_type": "markdown",
   "metadata": {},
   "source": [
    "Now you can see the speedup for this implementation by first running the `solve()` function which is the pure Python implementation and then running the `cffi_solve_abi()` solve function."
   ]
  },
  {
   "cell_type": "code",
   "execution_count": 1,
   "metadata": {},
   "outputs": [],
   "source": [
    "import laplace\n",
    "solver = laplace.LaplaceSolver()\n",
    "solver.set_boundary_condtion('top', lambda x,y: 10)\n",
    "solver.set_boundary_condtion('bottom', lambda x,y: 10)"
   ]
  },
  {
   "cell_type": "code",
   "execution_count": 2,
   "metadata": {},
   "outputs": [
    {
     "name": "stdout",
     "output_type": "stream",
     "text": [
      "117 µs ± 1.86 µs per loop (mean ± std. dev. of 7 runs, 10000 loops each)\n"
     ]
    }
   ],
   "source": [
    "%timeit solver.solve(quiet=True)"
   ]
  },
  {
   "cell_type": "code",
   "execution_count": 3,
   "metadata": {},
   "outputs": [
    {
     "name": "stdout",
     "output_type": "stream",
     "text": [
      "3.88 µs ± 27.3 ns per loop (mean ± std. dev. of 7 runs, 100000 loops each)\n"
     ]
    }
   ],
   "source": [
    "solver.reset()\n",
    "%timeit solver.cffi_solve_abi(quiet=True)"
   ]
  },
  {
   "cell_type": "markdown",
   "metadata": {},
   "source": [
    "Your task is the implement a CFFI \"API\" solution by completing the \"builder\" script named [iterate_build.py](iterate_build.py).  Your Python interface should have the module name \"iterate_api\". Once that is implemented correctly, exectute the Python script by uncommenting and executing the following code cell.  "
   ]
  },
  {
   "cell_type": "code",
   "execution_count": 7,
   "metadata": {},
   "outputs": [],
   "source": [
    "#%run iterate_build.py"
   ]
  },
  {
   "cell_type": "markdown",
   "metadata": {},
   "source": [
    "You can now examine the speedup of the \"API\" mode by uncommenting and executing the following cell."
   ]
  },
  {
   "cell_type": "code",
   "execution_count": 6,
   "metadata": {},
   "outputs": [],
   "source": [
    "#import imp\n",
    "#imp.reload(laplace)\n",
    "#solver = laplace.LaplaceSolver(nx=5, ny=10)\n",
    "#solver.set_boundary_condtion('top', lambda x,y: 5)\n",
    "#solver.set_boundary_condtion('bottom', lambda x,y: 10)\n",
    "#%timeit solver.cffi_solve_api(quiet=True)"
   ]
  }
 ],
 "metadata": {
  "kernelspec": {
   "display_name": "Python 3",
   "language": "python",
   "name": "python3"
  },
  "language_info": {
   "codemirror_mode": {
    "name": "ipython",
    "version": 3
   },
   "file_extension": ".py",
   "mimetype": "text/x-python",
   "name": "python",
   "nbconvert_exporter": "python",
   "pygments_lexer": "ipython3",
   "version": "3.6.5"
  }
 },
 "nbformat": 4,
 "nbformat_minor": 2
}
